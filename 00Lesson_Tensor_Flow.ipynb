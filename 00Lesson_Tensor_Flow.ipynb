{
  "nbformat": 4,
  "nbformat_minor": 0,
  "metadata": {
    "colab": {
      "provenance": [],
      "authorship_tag": "ABX9TyNqCl4p1qAOBxGHvASMYnYU",
      "include_colab_link": true
    },
    "kernelspec": {
      "name": "python3",
      "display_name": "Python 3"
    },
    "language_info": {
      "name": "python"
    }
  },
  "cells": [
    {
      "cell_type": "markdown",
      "metadata": {
        "id": "view-in-github",
        "colab_type": "text"
      },
      "source": [
        "<a href=\"https://colab.research.google.com/github/svrajeshkumar/tensorflow_certification/blob/main/00Lesson_Tensor_Flow.ipynb\" target=\"_parent\"><img src=\"https://colab.research.google.com/assets/colab-badge.svg\" alt=\"Open In Colab\"/></a>"
      ]
    },
    {
      "cell_type": "markdown",
      "source": [
        "# In this Notebook, i will be learning fundemental concepts of tensors using tensorflow\n",
        "\n",
        "Following topics will be covered\n",
        "\n",
        "* Introduction to tensors\n",
        "* Gettings information from tensors\n",
        "* Manipulating Tensors\n",
        "* Tensors * Numpy\n",
        "* Using @tf.function (way to speed up python functions)\n",
        "* Using GPU and TPU\n",
        "* Excersizes"
      ],
      "metadata": {
        "id": "KvM1yzLjRbVQ"
      }
    },
    {
      "cell_type": "markdown",
      "source": [
        "# Introduction to Tensors"
      ],
      "metadata": {
        "id": "0d1W013rRyvD"
      }
    },
    {
      "cell_type": "code",
      "source": [
        "import tensorflow as tf\n",
        "print(tf.__version__)"
      ],
      "metadata": {
        "colab": {
          "base_uri": "https://localhost:8080/"
        },
        "id": "Upm4VaNqSch9",
        "outputId": "81b078b1-d5f9-4b07-c35f-dbd73b3b4b4f"
      },
      "execution_count": null,
      "outputs": [
        {
          "output_type": "stream",
          "name": "stdout",
          "text": [
            "2.12.0\n"
          ]
        }
      ]
    },
    {
      "cell_type": "code",
      "source": [
        "#create tensors using tf.constant()\n",
        "\n",
        "scalar = tf.constant(7)\n",
        "scalar"
      ],
      "metadata": {
        "colab": {
          "base_uri": "https://localhost:8080/"
        },
        "id": "JTFZ-xvdSqWr",
        "outputId": "9408221f-e300-4e56-e4cd-8b609b41cff3"
      },
      "execution_count": null,
      "outputs": [
        {
          "output_type": "execute_result",
          "data": {
            "text/plain": [
              "<tf.Tensor: shape=(), dtype=int32, numpy=7>"
            ]
          },
          "metadata": {},
          "execution_count": 2
        }
      ]
    },
    {
      "cell_type": "code",
      "source": [
        "#check the no.of dimensions of a tensor (ndim)\n",
        "scalar.ndim"
      ],
      "metadata": {
        "colab": {
          "base_uri": "https://localhost:8080/"
        },
        "id": "O7XmritmS5dB",
        "outputId": "44d5dafa-987c-49bd-f5ba-a4cb094b0bff"
      },
      "execution_count": null,
      "outputs": [
        {
          "output_type": "execute_result",
          "data": {
            "text/plain": [
              "0"
            ]
          },
          "metadata": {},
          "execution_count": 4
        }
      ]
    },
    {
      "cell_type": "code",
      "source": [
        "#create a vector\n",
        "vector = tf.constant([10,10])\n",
        "vector"
      ],
      "metadata": {
        "colab": {
          "base_uri": "https://localhost:8080/"
        },
        "id": "vvGcr9-uTQrf",
        "outputId": "50c747dc-74d5-4faa-c212-1daacb409afb"
      },
      "execution_count": null,
      "outputs": [
        {
          "output_type": "execute_result",
          "data": {
            "text/plain": [
              "<tf.Tensor: shape=(2,), dtype=int32, numpy=array([10, 10], dtype=int32)>"
            ]
          },
          "metadata": {},
          "execution_count": 7
        }
      ]
    },
    {
      "cell_type": "code",
      "source": [
        "#check dimension of vector\n",
        "vector.ndim"
      ],
      "metadata": {
        "colab": {
          "base_uri": "https://localhost:8080/"
        },
        "id": "OF9pv3wVTau3",
        "outputId": "82c2ebd6-572b-4562-9f35-8df2dcb65e4d"
      },
      "execution_count": null,
      "outputs": [
        {
          "output_type": "execute_result",
          "data": {
            "text/plain": [
              "1"
            ]
          },
          "metadata": {},
          "execution_count": 8
        }
      ]
    },
    {
      "cell_type": "code",
      "source": [
        "#create a metrix\n",
        "matrix = tf.constant([[10,7],[7,10]])\n",
        "matrix"
      ],
      "metadata": {
        "colab": {
          "base_uri": "https://localhost:8080/"
        },
        "id": "z8eAwr4tTrvA",
        "outputId": "7418466a-5eed-449e-dbc5-9ce10a46140f"
      },
      "execution_count": null,
      "outputs": [
        {
          "output_type": "execute_result",
          "data": {
            "text/plain": [
              "<tf.Tensor: shape=(2, 2), dtype=int32, numpy=\n",
              "array([[10,  7],\n",
              "       [ 7, 10]], dtype=int32)>"
            ]
          },
          "metadata": {},
          "execution_count": 11
        }
      ]
    },
    {
      "cell_type": "code",
      "source": [
        "matrix.ndim"
      ],
      "metadata": {
        "colab": {
          "base_uri": "https://localhost:8080/"
        },
        "id": "wTzcJy8ET1Uw",
        "outputId": "8c488a20-e250-4b2b-a599-8331388d66b8"
      },
      "execution_count": null,
      "outputs": [
        {
          "output_type": "execute_result",
          "data": {
            "text/plain": [
              "2"
            ]
          },
          "metadata": {},
          "execution_count": 12
        }
      ]
    },
    {
      "cell_type": "code",
      "source": [
        "#create another matrix\n",
        "an_matrix = tf.constant([[10.,2],\n",
        "                        [2.,6],\n",
        "                         [14.,6]], dtype=tf.float16) #specify with dtype parameter\n",
        "an_matrix"
      ],
      "metadata": {
        "colab": {
          "base_uri": "https://localhost:8080/"
        },
        "id": "RnSzJuG9UBVI",
        "outputId": "bf7bf29b-070d-4c9b-871b-02b5fd61412e"
      },
      "execution_count": null,
      "outputs": [
        {
          "output_type": "execute_result",
          "data": {
            "text/plain": [
              "<tf.Tensor: shape=(3, 2), dtype=float16, numpy=\n",
              "array([[10.,  2.],\n",
              "       [ 2.,  6.],\n",
              "       [14.,  6.]], dtype=float16)>"
            ]
          },
          "metadata": {},
          "execution_count": 14
        }
      ]
    },
    {
      "cell_type": "code",
      "source": [
        "#ndim of another matrix\n",
        "an_matrix.ndim"
      ],
      "metadata": {
        "colab": {
          "base_uri": "https://localhost:8080/"
        },
        "id": "Z6vHrv9SWvoI",
        "outputId": "387b395e-e12a-4070-ae83-cc5d88d3a724"
      },
      "execution_count": null,
      "outputs": [
        {
          "output_type": "execute_result",
          "data": {
            "text/plain": [
              "2"
            ]
          },
          "metadata": {},
          "execution_count": 15
        }
      ]
    },
    {
      "cell_type": "code",
      "source": [
        "#crate a tensor with more dimensions\n",
        "m_matrix = tf.constant([[[1,2,3],\n",
        "                         [2,3,5]],\n",
        "                         [[6,7,8],\n",
        "                         [8,9,0]],\n",
        "                         [[11,12,14],\n",
        "                          [21,11,22]]\n",
        "                         ])\n",
        "m_matrix"
      ],
      "metadata": {
        "colab": {
          "base_uri": "https://localhost:8080/"
        },
        "id": "pSm2Fe_BXKZY",
        "outputId": "246f9bbf-e949-43c4-e6d5-84e866848701"
      },
      "execution_count": null,
      "outputs": [
        {
          "output_type": "execute_result",
          "data": {
            "text/plain": [
              "<tf.Tensor: shape=(3, 2, 3), dtype=int32, numpy=\n",
              "array([[[ 1,  2,  3],\n",
              "        [ 2,  3,  5]],\n",
              "\n",
              "       [[ 6,  7,  8],\n",
              "        [ 8,  9,  0]],\n",
              "\n",
              "       [[11, 12, 14],\n",
              "        [21, 11, 22]]], dtype=int32)>"
            ]
          },
          "metadata": {},
          "execution_count": 16
        }
      ]
    },
    {
      "cell_type": "code",
      "source": [
        "m_matrix.ndim"
      ],
      "metadata": {
        "colab": {
          "base_uri": "https://localhost:8080/"
        },
        "id": "-NwV_6MtXyeA",
        "outputId": "4651dd79-948a-4536-b3a0-2ca734ed4267"
      },
      "execution_count": null,
      "outputs": [
        {
          "output_type": "execute_result",
          "data": {
            "text/plain": [
              "3"
            ]
          },
          "metadata": {},
          "execution_count": 20
        }
      ]
    },
    {
      "cell_type": "markdown",
      "source": [
        "#what we created so far :\n",
        "* scalar a single number\n",
        "* vector a number with director\n",
        "* Matrix a 2 dimensional array of numbers\n",
        "* Tensor an n Dimensional array of numbers (0 dimensional is scalar, 1 dimensional is vector)"
      ],
      "metadata": {
        "id": "XxR40-xqYavK"
      }
    },
    {
      "cell_type": "markdown",
      "source": [
        "### Creating Tensors with tf.variable"
      ],
      "metadata": {
        "id": "kE32C2zdY8co"
      }
    },
    {
      "cell_type": "code",
      "source": [
        "tf.Variable"
      ],
      "metadata": {
        "colab": {
          "base_uri": "https://localhost:8080/"
        },
        "id": "kVHaCUCVY09v",
        "outputId": "b1a1d849-c99f-4a3b-e32b-8969177400cb"
      },
      "execution_count": null,
      "outputs": [
        {
          "output_type": "execute_result",
          "data": {
            "text/plain": [
              "tensorflow.python.ops.variables.Variable"
            ]
          },
          "metadata": {},
          "execution_count": 22
        }
      ]
    },
    {
      "cell_type": "code",
      "source": [
        "c_var = tf.Variable([10,7])\n",
        "unchangeable_ten = tf.constant([19,7])\n",
        "c_var , unchangeable_ten"
      ],
      "metadata": {
        "id": "CkLhBkimY3LI",
        "colab": {
          "base_uri": "https://localhost:8080/"
        },
        "outputId": "8c58c7a0-e392-4a00-99cf-0dc28a399284"
      },
      "execution_count": 23,
      "outputs": [
        {
          "output_type": "execute_result",
          "data": {
            "text/plain": [
              "(<tf.Variable 'Variable:0' shape=(2,) dtype=int32, numpy=array([10,  7], dtype=int32)>,\n",
              " <tf.Tensor: shape=(2,), dtype=int32, numpy=array([19,  7], dtype=int32)>)"
            ]
          },
          "metadata": {},
          "execution_count": 23
        }
      ]
    },
    {
      "cell_type": "code",
      "source": [],
      "metadata": {
        "id": "vspp6-6PfLrB"
      },
      "execution_count": null,
      "outputs": []
    }
  ]
}